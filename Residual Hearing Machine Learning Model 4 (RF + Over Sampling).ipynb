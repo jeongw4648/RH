{
 "cells": [
  {
   "cell_type": "markdown",
   "id": "ae52629f",
   "metadata": {},
   "source": [
    "# Residual Hearing Machine Learning Model 4\n",
    "\n",
    "- Sheet 1 데이터의 Gene Classification 을 포함하여 Result_Classification을 분류 \n",
    "- 총 66개 데이터 \n",
    "    - X 변수 : 'Age','Gene','Electrode','CDL', 'AID', 'A025(105)','A05(110)'\n",
    "    - Y 변수 : 'Result Classification' / 다중분류 \n",
    "- 모델 검증을 위한 데이터 셋 분할\n",
    "    - 학습데이터 : 46개\n",
    "    - 검증데이터 : 20개 \n",
    "- Over Sampling 기법을 이용해, 'Result Classification'에서 데이터 비율을 동등하게 맞추어 학습 \n",
    "- 앞서 가장 성능이 좋았던 Random Forest Model을 이용해 성능을 더욱 개선"
   ]
  },
  {
   "cell_type": "code",
   "execution_count": 84,
   "id": "1c7540e9",
   "metadata": {},
   "outputs": [],
   "source": [
    "import pandas as pd \n",
    "import numpy as np \n",
    "import matplotlib as mpl\n",
    "import matplotlib.pyplot as plt\n",
    "import seaborn as sns \n",
    "import scipy.stats as stats \n",
    "\n",
    "pd.options.display.max_columns = 120"
   ]
  },
  {
   "cell_type": "markdown",
   "id": "d3ee1f8c",
   "metadata": {},
   "source": [
    "**데이터 불러오기**"
   ]
  },
  {
   "cell_type": "code",
   "execution_count": 85,
   "id": "c6e92111",
   "metadata": {},
   "outputs": [],
   "source": [
    "df1 = pd.read_excel('residual_hearing_ML_0419_sheet1.xlsx')"
   ]
  },
  {
   "cell_type": "code",
   "execution_count": 86,
   "id": "5e53b533",
   "metadata": {},
   "outputs": [],
   "source": [
    "df1['Gene_clean'] = df1['Gene_Classification'].fillna(0.0)"
   ]
  },
  {
   "cell_type": "code",
   "execution_count": 87,
   "id": "0286645a",
   "metadata": {},
   "outputs": [],
   "source": [
    "df1['Electrode_clean'] = df1['Electrode'].replace({'Slim Modiolar':0,'Slim Straight':1})"
   ]
  },
  {
   "cell_type": "code",
   "execution_count": 88,
   "id": "96e8b2e8",
   "metadata": {},
   "outputs": [],
   "source": [
    "Y = df1['Result_Classification_3M']\n",
    "X = df1[['Age at CI','Gene_clean','Electrode_clean','CDL', \n",
    "         'AID', 'A025(105)', 'A05(110)']]"
   ]
  },
  {
   "cell_type": "markdown",
   "id": "527087a7",
   "metadata": {},
   "source": [
    "**Over Sampling Methods**"
   ]
  },
  {
   "cell_type": "code",
   "execution_count": 89,
   "id": "ec0dcc7a",
   "metadata": {},
   "outputs": [],
   "source": [
    "from imblearn.over_sampling import SMOTE"
   ]
  },
  {
   "cell_type": "code",
   "execution_count": 90,
   "id": "f4671780",
   "metadata": {},
   "outputs": [
    {
     "data": {
      "text/plain": [
       "SMOTE()"
      ]
     },
     "execution_count": 90,
     "metadata": {},
     "output_type": "execute_result"
    }
   ],
   "source": [
    "sampler = SMOTE()\n",
    "sampler.fit(X, Y)"
   ]
  },
  {
   "cell_type": "code",
   "execution_count": 91,
   "id": "822edd78",
   "metadata": {},
   "outputs": [],
   "source": [
    "X_over, Y_over = sampler.fit_resample(X, Y)"
   ]
  },
  {
   "cell_type": "markdown",
   "id": "7a8ff181",
   "metadata": {},
   "source": [
    "**Machine Learning Model 구성**"
   ]
  },
  {
   "cell_type": "code",
   "execution_count": 92,
   "id": "bb95fd11",
   "metadata": {},
   "outputs": [],
   "source": [
    "from sklearn.model_selection import train_test_split\n",
    "from sklearn.pipeline import Pipeline\n",
    "from sklearn.preprocessing import RobustScaler\n",
    "from sklearn.model_selection import GridSearchCV\n",
    "from sklearn.metrics import classification_report\n",
    "from sklearn.metrics import roc_auc_score\n",
    "from sklearn.metrics import f1_score\n",
    "from sklearn.ensemble import RandomForestClassifier"
   ]
  },
  {
   "cell_type": "code",
   "execution_count": 93,
   "id": "f1975bb0",
   "metadata": {},
   "outputs": [],
   "source": [
    "X_train, X_test, Y_train, Y_test = train_test_split(X_over, Y_over, test_size=0.4,random_state=1234)"
   ]
  },
  {
   "cell_type": "markdown",
   "id": "13d866fb",
   "metadata": {},
   "source": [
    "**Random Forest Model**"
   ]
  },
  {
   "cell_type": "code",
   "execution_count": 11,
   "id": "9e7f2079",
   "metadata": {},
   "outputs": [],
   "source": [
    "pipe_list = [('scaler', RobustScaler()),\n",
    "             ('model',  RandomForestClassifier())]\n",
    "\n",
    "pipe_model = Pipeline(pipe_list)"
   ]
  },
  {
   "cell_type": "code",
   "execution_count": 12,
   "id": "751d7b72",
   "metadata": {},
   "outputs": [
    {
     "name": "stderr",
     "output_type": "stream",
     "text": [
      "C:\\ProgramData\\Anaconda3\\lib\\site-packages\\sklearn\\model_selection\\_search.py:918: UserWarning: One or more of the test scores are non-finite: [       nan        nan        nan ... 0.37090909 0.37090909 0.37090909]\n",
      "  warnings.warn(\n"
     ]
    },
    {
     "data": {
      "text/plain": [
       "GridSearchCV(cv=5,\n",
       "             estimator=Pipeline(steps=[('scaler', RobustScaler()),\n",
       "                                       ('model', RandomForestClassifier())]),\n",
       "             n_jobs=-1,\n",
       "             param_grid={'model__class_weight': [None, 'balanced',\n",
       "                                                 'balanced_subsample'],\n",
       "                         'model__criterion': ['gini', 'entropy'],\n",
       "                         'model__max_depth': range(1, 20),\n",
       "                         'model__min_samples_leaf': range(1, 20),\n",
       "                         'model__min_samples_split': range(1, 20),\n",
       "                         'model__n_estimators': [50, 100, 150, 200, 500]})"
      ]
     },
     "execution_count": 12,
     "metadata": {},
     "output_type": "execute_result"
    }
   ],
   "source": [
    "hyper_parameter = {'model__max_depth':range(1,20),\n",
    "                  'model__min_samples_leaf':range(1,20),\n",
    "                  'model__min_samples_split':range(1,20),\n",
    "                  'model__class_weight':[None,'balanced','balanced_subsample'],\n",
    "                  'model__criterion':['gini','entropy'],\n",
    "                  'model__n_estimators':[50,100,150,200,500]}\n",
    "\n",
    "grid_model = GridSearchCV(pipe_model, \n",
    "                          param_grid=hyper_parameter, cv=5, n_jobs=-1)\n",
    "grid_model.fit(X_train, Y_train)"
   ]
  },
  {
   "cell_type": "code",
   "execution_count": 94,
   "id": "d738b698",
   "metadata": {},
   "outputs": [
    {
     "name": "stdout",
     "output_type": "stream",
     "text": [
      "Pipeline(steps=[('scaler', RobustScaler()),\n",
      "                ('model',\n",
      "                 RandomForestClassifier(class_weight='balanced_subsample',\n",
      "                                        criterion='entropy', max_depth=11,\n",
      "                                        min_samples_split=5,\n",
      "                                        n_estimators=50))])\n"
     ]
    }
   ],
   "source": [
    "best_model = grid_model.best_estimator_\n",
    "Y_train_pred = best_model.predict(X_train)\n",
    "Y_train_pred_proba = best_model.predict_proba(X_train)\n",
    "\n",
    "Y_test_pred = best_model.predict(X_test)\n",
    "Y_test_pred_proba = best_model.predict_proba(X_test)\n",
    "\n",
    "print(best_model)"
   ]
  },
  {
   "cell_type": "code",
   "execution_count": 95,
   "id": "42585c40",
   "metadata": {},
   "outputs": [
    {
     "name": "stdout",
     "output_type": "stream",
     "text": [
      "학습 데이터 검증 결과 \n",
      "               precision    recall  f1-score   support\n",
      "\n",
      "           1       1.00      0.80      0.89        20\n",
      "           2       0.80      1.00      0.89        20\n",
      "           3       1.00      0.93      0.96        14\n",
      "\n",
      "    accuracy                           0.91        54\n",
      "   macro avg       0.93      0.91      0.91        54\n",
      "weighted avg       0.93      0.91      0.91        54\n",
      "\n",
      "\n",
      "학습 데이터 AUC \n",
      " 0.9769607843137255\n",
      "\n",
      "학습 데이터 F1 Score \n",
      " 0.9080932784636488\n"
     ]
    }
   ],
   "source": [
    "print('학습 데이터 검증 결과 \\n',classification_report(Y_train, Y_train_pred))\n",
    "print('\\n학습 데이터 AUC \\n',roc_auc_score(Y_train, Y_train_pred_proba , multi_class='ovr'))\n",
    "print('\\n학습 데이터 F1 Score \\n',f1_score(Y_train, Y_train_pred, average='weighted'))"
   ]
  },
  {
   "cell_type": "code",
   "execution_count": 96,
   "id": "3e033308",
   "metadata": {},
   "outputs": [
    {
     "name": "stdout",
     "output_type": "stream",
     "text": [
      "              precision    recall  f1-score   support\n",
      "\n",
      "           1       0.83      0.50      0.62        10\n",
      "           2       0.47      0.80      0.59        10\n",
      "           3       0.77      0.62      0.69        16\n",
      "\n",
      "    accuracy                           0.64        36\n",
      "   macro avg       0.69      0.64      0.64        36\n",
      "weighted avg       0.70      0.64      0.64        36\n",
      "\n",
      "\n",
      "검증 데이터 AUC \n",
      " 0.6930288461538462\n",
      "\n",
      "검증 데이터 F1 Score \n",
      " 0.6447335745707394\n"
     ]
    }
   ],
   "source": [
    "print(classification_report(Y_test, Y_test_pred))\n",
    "print('\\n검증 데이터 AUC \\n',roc_auc_score(Y_test, Y_test_pred_proba , multi_class='ovr'))\n",
    "print('\\n검증 데이터 F1 Score \\n',f1_score(Y_test, Y_test_pred, average='weighted'))"
   ]
  },
  {
   "cell_type": "markdown",
   "id": "53b2134f",
   "metadata": {},
   "source": [
    "## ROC"
   ]
  },
  {
   "cell_type": "code",
   "execution_count": 97,
   "id": "4abf9ab9",
   "metadata": {},
   "outputs": [],
   "source": [
    "from sklearn.preprocessing import label_binarize\n",
    "from sklearn.metrics import roc_curve, auc\n",
    "from itertools import cycle"
   ]
  },
  {
   "cell_type": "code",
   "execution_count": 98,
   "id": "ba862108",
   "metadata": {},
   "outputs": [],
   "source": [
    "y_test = pd.get_dummies(Y_test).values"
   ]
  },
  {
   "cell_type": "code",
   "execution_count": 99,
   "id": "510ab5da",
   "metadata": {},
   "outputs": [],
   "source": [
    "y_score = best_model.predict_proba(X_test)"
   ]
  },
  {
   "cell_type": "code",
   "execution_count": 100,
   "id": "13151ac2",
   "metadata": {},
   "outputs": [],
   "source": [
    "n_classes = y.shape[1]\n",
    "\n",
    "fpr = dict()\n",
    "tpr = dict()\n",
    "roc_auc = dict()\n",
    "for i in range(3):\n",
    "    fpr[i], tpr[i], _ = roc_curve(y_test[:, i], y_score[:, i])\n",
    "    roc_auc[i] = auc(fpr[i], tpr[i])"
   ]
  },
  {
   "cell_type": "code",
   "execution_count": 101,
   "id": "37e5d2d5",
   "metadata": {},
   "outputs": [],
   "source": [
    "# Compute micro-average ROC curve and ROC area\n",
    "fpr[\"micro\"], tpr[\"micro\"], _ = roc_curve(y_test.ravel(), y_score.ravel())\n",
    "roc_auc[\"micro\"] = auc(fpr[\"micro\"], tpr[\"micro\"])"
   ]
  },
  {
   "cell_type": "code",
   "execution_count": 105,
   "id": "5cd5d9ad",
   "metadata": {},
   "outputs": [
    {
     "data": {
      "image/png": "[encoded data removed]",
      "text/plain": [
       "<Figure size 720x360 with 1 Axes>"
      ]
     },
     "metadata": {
      "needs_background": "light"
     },
     "output_type": "display_data"
    }
   ],
   "source": [
    "plt.figure(figsize=[10,5])\n",
    "lw = 2\n",
    "plt.plot(\n",
    "    fpr[2],\n",
    "    tpr[2],\n",
    "    color=\"darkorange\",\n",
    "    lw=lw,\n",
    "    label=\"ROC curve (area = %0.2f)\" % roc_auc[2],\n",
    ")\n",
    "plt.plot([0, 1], [0, 1], color=\"navy\", lw=lw, linestyle=\"--\")\n",
    "plt.xlim([0.0, 1.0])\n",
    "plt.ylim([0.0, 1.05])\n",
    "plt.xlabel(\"False Positive Rate\")\n",
    "plt.ylabel(\"True Positive Rate\")\n",
    "plt.title(\"Receiver operating characteristic example\")\n",
    "plt.legend(loc=\"lower right\")\n",
    "plt.show()"
   ]
  },
  {
   "cell_type": "code",
   "execution_count": 107,
   "id": "f6ef869c",
   "metadata": {},
   "outputs": [
    {
     "data": {
      "image/png": "[encoded data removed]",
      "text/plain": [
       "<Figure size 720x504 with 1 Axes>"
      ]
     },
     "metadata": {
      "needs_background": "light"
     },
     "output_type": "display_data"
    }
   ],
   "source": [
    "# First aggregate all false positive rates\n",
    "all_fpr = np.unique(np.concatenate([fpr[i] for i in range(n_classes)]))\n",
    "\n",
    "# Then interpolate all ROC curves at this points\n",
    "mean_tpr = np.zeros_like(all_fpr)\n",
    "for i in range(n_classes):\n",
    "    mean_tpr += np.interp(all_fpr, fpr[i], tpr[i])\n",
    "\n",
    "# Finally average it and compute AUC\n",
    "mean_tpr /= n_classes\n",
    "\n",
    "fpr[\"macro\"] = all_fpr\n",
    "tpr[\"macro\"] = mean_tpr\n",
    "roc_auc[\"macro\"] = auc(fpr[\"macro\"], tpr[\"macro\"])\n",
    "\n",
    "# Plot all ROC curves\n",
    "plt.figure(figsize=[10,7])\n",
    "plt.plot(\n",
    "    fpr[\"micro\"],\n",
    "    tpr[\"micro\"],\n",
    "    label=\"micro-average ROC curve (area = {0:0.2f})\".format(roc_auc[\"micro\"]),\n",
    "    color=\"deeppink\",\n",
    "    linestyle=\":\",\n",
    "    linewidth=4,\n",
    ")\n",
    "\n",
    "plt.plot(\n",
    "    fpr[\"macro\"],\n",
    "    tpr[\"macro\"],\n",
    "    label=\"macro-average ROC curve (area = {0:0.2f})\".format(roc_auc[\"macro\"]),\n",
    "    color=\"navy\",\n",
    "    linestyle=\":\",\n",
    "    linewidth=4,\n",
    ")\n",
    "\n",
    "colors = cycle([\"aqua\", \"darkorange\", \"cornflowerblue\"])\n",
    "for i, color in zip(range(n_classes), colors):\n",
    "    plt.plot(\n",
    "        fpr[i],\n",
    "        tpr[i],\n",
    "        color=color,\n",
    "        lw=lw,\n",
    "        label=\"ROC curve of class {0} (area = {1:0.2f})\".format(i, roc_auc[i]),\n",
    "    )\n",
    "\n",
    "\n",
    "plt.plot([0, 1], [0, 1], \"k--\", lw=lw)\n",
    "plt.xlim([0.0, 1.0])\n",
    "plt.ylim([0.0, 1.05])\n",
    "plt.xlabel(\"False Positive Rate\")\n",
    "plt.ylabel(\"True Positive Rate\")\n",
    "plt.title(\"Receiver operating characteristic to multiclass\")\n",
    "plt.legend(loc=\"lower right\")\n",
    "plt.show()"
   ]
  }
 ],
 "metadata": {
  "kernelspec": {
   "display_name": "Python 3 (ipykernel)",
   "language": "python",
   "name": "python3"
  },
  "language_info": {
   "codemirror_mode": {
    "name": "ipython",
    "version": 3
   },
   "file_extension": ".py",
   "mimetype": "text/x-python",
   "name": "python",
   "nbconvert_exporter": "python",
   "pygments_lexer": "ipython3",
   "version": "3.11.5"
  },
  "toc": {
   "base_numbering": 1,
   "nav_menu": {},
   "number_sections": true,
   "sideBar": true,
   "skip_h1_title": false,
   "title_cell": "Table of Contents",
   "title_sidebar": "Contents",
   "toc_cell": false,
   "toc_position": {},
   "toc_section_display": true,
   "toc_window_display": false
  }
 },
 "nbformat": 4,
 "nbformat_minor": 5
}
